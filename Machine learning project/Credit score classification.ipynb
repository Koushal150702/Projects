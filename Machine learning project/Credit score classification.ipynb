{
 "cells": [
  {
   "cell_type": "code",
   "execution_count": 2,
   "id": "ef05101e-ae22-4ba1-a040-2ab77550c72f",
   "metadata": {
    "tags": []
   },
   "outputs": [],
   "source": [
    "import pandas as pd\n",
    "import numpy as np\n",
    "import matplotlib.pyplot as plt"
   ]
  },
  {
   "cell_type": "markdown",
   "id": "84e7cf33-aebd-4ee4-b87d-447a4d7af19f",
   "metadata": {},
   "source": [
    "# Importing the dataset"
   ]
  },
  {
   "cell_type": "code",
   "execution_count": 3,
   "id": "755f14d8-5553-4e22-b4ca-0801e9babf20",
   "metadata": {
    "tags": []
   },
   "outputs": [
    {
     "data": {
      "text/html": [
       "<div>\n",
       "<style scoped>\n",
       "    .dataframe tbody tr th:only-of-type {\n",
       "        vertical-align: middle;\n",
       "    }\n",
       "\n",
       "    .dataframe tbody tr th {\n",
       "        vertical-align: top;\n",
       "    }\n",
       "\n",
       "    .dataframe thead th {\n",
       "        text-align: right;\n",
       "    }\n",
       "</style>\n",
       "<table border=\"1\" class=\"dataframe\">\n",
       "  <thead>\n",
       "    <tr style=\"text-align: right;\">\n",
       "      <th></th>\n",
       "      <th>ID</th>\n",
       "      <th>Customer_ID</th>\n",
       "      <th>Month</th>\n",
       "      <th>Name</th>\n",
       "      <th>Age</th>\n",
       "      <th>SSN</th>\n",
       "      <th>Occupation</th>\n",
       "      <th>Annual_Income</th>\n",
       "      <th>Monthly_Inhand_Salary</th>\n",
       "      <th>Num_Bank_Accounts</th>\n",
       "      <th>...</th>\n",
       "      <th>Credit_Mix</th>\n",
       "      <th>Outstanding_Debt</th>\n",
       "      <th>Credit_Utilization_Ratio</th>\n",
       "      <th>Credit_History_Age</th>\n",
       "      <th>Payment_of_Min_Amount</th>\n",
       "      <th>Total_EMI_per_month</th>\n",
       "      <th>Amount_invested_monthly</th>\n",
       "      <th>Payment_Behaviour</th>\n",
       "      <th>Monthly_Balance</th>\n",
       "      <th>Credit_Score</th>\n",
       "    </tr>\n",
       "  </thead>\n",
       "  <tbody>\n",
       "    <tr>\n",
       "      <th>0</th>\n",
       "      <td>5634</td>\n",
       "      <td>3392</td>\n",
       "      <td>1</td>\n",
       "      <td>Aaron Maashoh</td>\n",
       "      <td>23.0</td>\n",
       "      <td>821000265.0</td>\n",
       "      <td>Scientist</td>\n",
       "      <td>19114.12</td>\n",
       "      <td>1824.843333</td>\n",
       "      <td>3.0</td>\n",
       "      <td>...</td>\n",
       "      <td>Good</td>\n",
       "      <td>809.98</td>\n",
       "      <td>26.822620</td>\n",
       "      <td>265.0</td>\n",
       "      <td>No</td>\n",
       "      <td>49.574949</td>\n",
       "      <td>21.46538</td>\n",
       "      <td>High_spent_Small_value_payments</td>\n",
       "      <td>312.494089</td>\n",
       "      <td>Good</td>\n",
       "    </tr>\n",
       "    <tr>\n",
       "      <th>1</th>\n",
       "      <td>5635</td>\n",
       "      <td>3392</td>\n",
       "      <td>2</td>\n",
       "      <td>Aaron Maashoh</td>\n",
       "      <td>23.0</td>\n",
       "      <td>821000265.0</td>\n",
       "      <td>Scientist</td>\n",
       "      <td>19114.12</td>\n",
       "      <td>1824.843333</td>\n",
       "      <td>3.0</td>\n",
       "      <td>...</td>\n",
       "      <td>Good</td>\n",
       "      <td>809.98</td>\n",
       "      <td>31.944960</td>\n",
       "      <td>266.0</td>\n",
       "      <td>No</td>\n",
       "      <td>49.574949</td>\n",
       "      <td>21.46538</td>\n",
       "      <td>Low_spent_Large_value_payments</td>\n",
       "      <td>284.629162</td>\n",
       "      <td>Good</td>\n",
       "    </tr>\n",
       "    <tr>\n",
       "      <th>2</th>\n",
       "      <td>5636</td>\n",
       "      <td>3392</td>\n",
       "      <td>3</td>\n",
       "      <td>Aaron Maashoh</td>\n",
       "      <td>23.0</td>\n",
       "      <td>821000265.0</td>\n",
       "      <td>Scientist</td>\n",
       "      <td>19114.12</td>\n",
       "      <td>1824.843333</td>\n",
       "      <td>3.0</td>\n",
       "      <td>...</td>\n",
       "      <td>Good</td>\n",
       "      <td>809.98</td>\n",
       "      <td>28.609352</td>\n",
       "      <td>267.0</td>\n",
       "      <td>No</td>\n",
       "      <td>49.574949</td>\n",
       "      <td>21.46538</td>\n",
       "      <td>Low_spent_Medium_value_payments</td>\n",
       "      <td>331.209863</td>\n",
       "      <td>Good</td>\n",
       "    </tr>\n",
       "    <tr>\n",
       "      <th>3</th>\n",
       "      <td>5637</td>\n",
       "      <td>3392</td>\n",
       "      <td>4</td>\n",
       "      <td>Aaron Maashoh</td>\n",
       "      <td>23.0</td>\n",
       "      <td>821000265.0</td>\n",
       "      <td>Scientist</td>\n",
       "      <td>19114.12</td>\n",
       "      <td>1824.843333</td>\n",
       "      <td>3.0</td>\n",
       "      <td>...</td>\n",
       "      <td>Good</td>\n",
       "      <td>809.98</td>\n",
       "      <td>31.377862</td>\n",
       "      <td>268.0</td>\n",
       "      <td>No</td>\n",
       "      <td>49.574949</td>\n",
       "      <td>21.46538</td>\n",
       "      <td>Low_spent_Small_value_payments</td>\n",
       "      <td>223.451310</td>\n",
       "      <td>Good</td>\n",
       "    </tr>\n",
       "    <tr>\n",
       "      <th>4</th>\n",
       "      <td>5638</td>\n",
       "      <td>3392</td>\n",
       "      <td>5</td>\n",
       "      <td>Aaron Maashoh</td>\n",
       "      <td>23.0</td>\n",
       "      <td>821000265.0</td>\n",
       "      <td>Scientist</td>\n",
       "      <td>19114.12</td>\n",
       "      <td>1824.843333</td>\n",
       "      <td>3.0</td>\n",
       "      <td>...</td>\n",
       "      <td>Good</td>\n",
       "      <td>809.98</td>\n",
       "      <td>24.797347</td>\n",
       "      <td>269.0</td>\n",
       "      <td>No</td>\n",
       "      <td>49.574949</td>\n",
       "      <td>21.46538</td>\n",
       "      <td>High_spent_Medium_value_payments</td>\n",
       "      <td>341.489231</td>\n",
       "      <td>Good</td>\n",
       "    </tr>\n",
       "  </tbody>\n",
       "</table>\n",
       "<p>5 rows × 28 columns</p>\n",
       "</div>"
      ],
      "text/plain": [
       "     ID  Customer_ID  Month           Name   Age          SSN Occupation  \\\n",
       "0  5634         3392      1  Aaron Maashoh  23.0  821000265.0  Scientist   \n",
       "1  5635         3392      2  Aaron Maashoh  23.0  821000265.0  Scientist   \n",
       "2  5636         3392      3  Aaron Maashoh  23.0  821000265.0  Scientist   \n",
       "3  5637         3392      4  Aaron Maashoh  23.0  821000265.0  Scientist   \n",
       "4  5638         3392      5  Aaron Maashoh  23.0  821000265.0  Scientist   \n",
       "\n",
       "   Annual_Income  Monthly_Inhand_Salary  Num_Bank_Accounts  ...  Credit_Mix  \\\n",
       "0       19114.12            1824.843333                3.0  ...        Good   \n",
       "1       19114.12            1824.843333                3.0  ...        Good   \n",
       "2       19114.12            1824.843333                3.0  ...        Good   \n",
       "3       19114.12            1824.843333                3.0  ...        Good   \n",
       "4       19114.12            1824.843333                3.0  ...        Good   \n",
       "\n",
       "   Outstanding_Debt  Credit_Utilization_Ratio Credit_History_Age  \\\n",
       "0            809.98                 26.822620              265.0   \n",
       "1            809.98                 31.944960              266.0   \n",
       "2            809.98                 28.609352              267.0   \n",
       "3            809.98                 31.377862              268.0   \n",
       "4            809.98                 24.797347              269.0   \n",
       "\n",
       "   Payment_of_Min_Amount  Total_EMI_per_month  Amount_invested_monthly  \\\n",
       "0                     No            49.574949                 21.46538   \n",
       "1                     No            49.574949                 21.46538   \n",
       "2                     No            49.574949                 21.46538   \n",
       "3                     No            49.574949                 21.46538   \n",
       "4                     No            49.574949                 21.46538   \n",
       "\n",
       "                  Payment_Behaviour Monthly_Balance  Credit_Score  \n",
       "0   High_spent_Small_value_payments      312.494089          Good  \n",
       "1    Low_spent_Large_value_payments      284.629162          Good  \n",
       "2   Low_spent_Medium_value_payments      331.209863          Good  \n",
       "3    Low_spent_Small_value_payments      223.451310          Good  \n",
       "4  High_spent_Medium_value_payments      341.489231          Good  \n",
       "\n",
       "[5 rows x 28 columns]"
      ]
     },
     "execution_count": 3,
     "metadata": {},
     "output_type": "execute_result"
    }
   ],
   "source": [
    "path = 'Credit - train.csv'\n",
    "credit_train = pd.read_csv(path)\n",
    "\n",
    "credit_train.head(5)"
   ]
  },
  {
   "cell_type": "code",
   "execution_count": 4,
   "id": "5849fdde-5dd8-4d51-8dba-0c79085cf0c1",
   "metadata": {
    "tags": []
   },
   "outputs": [
    {
     "data": {
      "text/html": [
       "<div>\n",
       "<style scoped>\n",
       "    .dataframe tbody tr th:only-of-type {\n",
       "        vertical-align: middle;\n",
       "    }\n",
       "\n",
       "    .dataframe tbody tr th {\n",
       "        vertical-align: top;\n",
       "    }\n",
       "\n",
       "    .dataframe thead th {\n",
       "        text-align: right;\n",
       "    }\n",
       "</style>\n",
       "<table border=\"1\" class=\"dataframe\">\n",
       "  <thead>\n",
       "    <tr style=\"text-align: right;\">\n",
       "      <th></th>\n",
       "      <th>ID</th>\n",
       "      <th>Customer_ID</th>\n",
       "      <th>Month</th>\n",
       "      <th>Name</th>\n",
       "      <th>Age</th>\n",
       "      <th>SSN</th>\n",
       "      <th>Occupation</th>\n",
       "      <th>Annual_Income</th>\n",
       "      <th>Monthly_Inhand_Salary</th>\n",
       "      <th>Num_Bank_Accounts</th>\n",
       "      <th>...</th>\n",
       "      <th>Num_Credit_Inquiries</th>\n",
       "      <th>Credit_Mix</th>\n",
       "      <th>Outstanding_Debt</th>\n",
       "      <th>Credit_Utilization_Ratio</th>\n",
       "      <th>Credit_History_Age</th>\n",
       "      <th>Payment_of_Min_Amount</th>\n",
       "      <th>Total_EMI_per_month</th>\n",
       "      <th>Amount_invested_monthly</th>\n",
       "      <th>Payment_Behaviour</th>\n",
       "      <th>Monthly_Balance</th>\n",
       "    </tr>\n",
       "  </thead>\n",
       "  <tbody>\n",
       "    <tr>\n",
       "      <th>0</th>\n",
       "      <td>5642</td>\n",
       "      <td>3392</td>\n",
       "      <td>9</td>\n",
       "      <td>Aaron Maashoh</td>\n",
       "      <td>23.0</td>\n",
       "      <td>821000265.0</td>\n",
       "      <td>Scientist</td>\n",
       "      <td>19114.12</td>\n",
       "      <td>1824.843333</td>\n",
       "      <td>3.0</td>\n",
       "      <td>...</td>\n",
       "      <td>4.0</td>\n",
       "      <td>Good</td>\n",
       "      <td>809.98</td>\n",
       "      <td>35.030402</td>\n",
       "      <td>273.0</td>\n",
       "      <td>No</td>\n",
       "      <td>49.574949</td>\n",
       "      <td>21.465380</td>\n",
       "      <td>Low_spent_Small_value_payments</td>\n",
       "      <td>186.266702</td>\n",
       "    </tr>\n",
       "    <tr>\n",
       "      <th>1</th>\n",
       "      <td>5643</td>\n",
       "      <td>3392</td>\n",
       "      <td>10</td>\n",
       "      <td>Aaron Maashoh</td>\n",
       "      <td>24.0</td>\n",
       "      <td>821000265.0</td>\n",
       "      <td>Scientist</td>\n",
       "      <td>19114.12</td>\n",
       "      <td>1824.843333</td>\n",
       "      <td>3.0</td>\n",
       "      <td>...</td>\n",
       "      <td>4.0</td>\n",
       "      <td>Good</td>\n",
       "      <td>809.98</td>\n",
       "      <td>33.053114</td>\n",
       "      <td>274.0</td>\n",
       "      <td>No</td>\n",
       "      <td>49.574949</td>\n",
       "      <td>21.465380</td>\n",
       "      <td>High_spent_Medium_value_payments</td>\n",
       "      <td>361.444004</td>\n",
       "    </tr>\n",
       "    <tr>\n",
       "      <th>2</th>\n",
       "      <td>5644</td>\n",
       "      <td>3392</td>\n",
       "      <td>11</td>\n",
       "      <td>Aaron Maashoh</td>\n",
       "      <td>24.0</td>\n",
       "      <td>821000265.0</td>\n",
       "      <td>Scientist</td>\n",
       "      <td>19114.12</td>\n",
       "      <td>1824.843333</td>\n",
       "      <td>3.0</td>\n",
       "      <td>...</td>\n",
       "      <td>4.0</td>\n",
       "      <td>Good</td>\n",
       "      <td>809.98</td>\n",
       "      <td>33.811894</td>\n",
       "      <td>275.0</td>\n",
       "      <td>No</td>\n",
       "      <td>49.574949</td>\n",
       "      <td>21.465380</td>\n",
       "      <td>Low_spent_Medium_value_payments</td>\n",
       "      <td>264.675446</td>\n",
       "    </tr>\n",
       "    <tr>\n",
       "      <th>3</th>\n",
       "      <td>5645</td>\n",
       "      <td>3392</td>\n",
       "      <td>12</td>\n",
       "      <td>Aaron Maashoh</td>\n",
       "      <td>24.0</td>\n",
       "      <td>821000265.0</td>\n",
       "      <td>Scientist</td>\n",
       "      <td>19114.12</td>\n",
       "      <td>1824.843333</td>\n",
       "      <td>3.0</td>\n",
       "      <td>...</td>\n",
       "      <td>4.0</td>\n",
       "      <td>Good</td>\n",
       "      <td>809.98</td>\n",
       "      <td>32.430559</td>\n",
       "      <td>276.0</td>\n",
       "      <td>No</td>\n",
       "      <td>49.574949</td>\n",
       "      <td>21.465380</td>\n",
       "      <td>High_spent_Medium_value_payments</td>\n",
       "      <td>343.826873</td>\n",
       "    </tr>\n",
       "    <tr>\n",
       "      <th>4</th>\n",
       "      <td>5654</td>\n",
       "      <td>8625</td>\n",
       "      <td>9</td>\n",
       "      <td>Rick Rothackerj</td>\n",
       "      <td>28.0</td>\n",
       "      <td>4075839.0</td>\n",
       "      <td>Teacher</td>\n",
       "      <td>34847.84</td>\n",
       "      <td>3037.986667</td>\n",
       "      <td>2.0</td>\n",
       "      <td>...</td>\n",
       "      <td>5.0</td>\n",
       "      <td>Good</td>\n",
       "      <td>605.03</td>\n",
       "      <td>25.926822</td>\n",
       "      <td>327.0</td>\n",
       "      <td>No</td>\n",
       "      <td>18.816215</td>\n",
       "      <td>39.684018</td>\n",
       "      <td>High_spent_Large_value_payments</td>\n",
       "      <td>485.298434</td>\n",
       "    </tr>\n",
       "  </tbody>\n",
       "</table>\n",
       "<p>5 rows × 27 columns</p>\n",
       "</div>"
      ],
      "text/plain": [
       "     ID  Customer_ID  Month             Name   Age          SSN Occupation  \\\n",
       "0  5642         3392      9    Aaron Maashoh  23.0  821000265.0  Scientist   \n",
       "1  5643         3392     10    Aaron Maashoh  24.0  821000265.0  Scientist   \n",
       "2  5644         3392     11    Aaron Maashoh  24.0  821000265.0  Scientist   \n",
       "3  5645         3392     12    Aaron Maashoh  24.0  821000265.0  Scientist   \n",
       "4  5654         8625      9  Rick Rothackerj  28.0    4075839.0    Teacher   \n",
       "\n",
       "   Annual_Income  Monthly_Inhand_Salary  Num_Bank_Accounts  ...  \\\n",
       "0       19114.12            1824.843333                3.0  ...   \n",
       "1       19114.12            1824.843333                3.0  ...   \n",
       "2       19114.12            1824.843333                3.0  ...   \n",
       "3       19114.12            1824.843333                3.0  ...   \n",
       "4       34847.84            3037.986667                2.0  ...   \n",
       "\n",
       "   Num_Credit_Inquiries  Credit_Mix  Outstanding_Debt  \\\n",
       "0                   4.0        Good            809.98   \n",
       "1                   4.0        Good            809.98   \n",
       "2                   4.0        Good            809.98   \n",
       "3                   4.0        Good            809.98   \n",
       "4                   5.0        Good            605.03   \n",
       "\n",
       "  Credit_Utilization_Ratio  Credit_History_Age  Payment_of_Min_Amount  \\\n",
       "0                35.030402               273.0                     No   \n",
       "1                33.053114               274.0                     No   \n",
       "2                33.811894               275.0                     No   \n",
       "3                32.430559               276.0                     No   \n",
       "4                25.926822               327.0                     No   \n",
       "\n",
       "   Total_EMI_per_month  Amount_invested_monthly  \\\n",
       "0            49.574949                21.465380   \n",
       "1            49.574949                21.465380   \n",
       "2            49.574949                21.465380   \n",
       "3            49.574949                21.465380   \n",
       "4            18.816215                39.684018   \n",
       "\n",
       "                  Payment_Behaviour  Monthly_Balance  \n",
       "0    Low_spent_Small_value_payments       186.266702  \n",
       "1  High_spent_Medium_value_payments       361.444004  \n",
       "2   Low_spent_Medium_value_payments       264.675446  \n",
       "3  High_spent_Medium_value_payments       343.826873  \n",
       "4   High_spent_Large_value_payments       485.298434  \n",
       "\n",
       "[5 rows x 27 columns]"
      ]
     },
     "execution_count": 4,
     "metadata": {},
     "output_type": "execute_result"
    }
   ],
   "source": [
    "path2 = 'Credit - test.csv'\n",
    "credit_test = pd.read_csv(path2)\n",
    "\n",
    "credit_test.head(5)"
   ]
  },
  {
   "cell_type": "code",
   "execution_count": 5,
   "id": "cc1dd8e6-960e-4ff4-a5ee-a4e06948621b",
   "metadata": {
    "tags": []
   },
   "outputs": [
    {
     "data": {
      "text/html": [
       "<div>\n",
       "<style scoped>\n",
       "    .dataframe tbody tr th:only-of-type {\n",
       "        vertical-align: middle;\n",
       "    }\n",
       "\n",
       "    .dataframe tbody tr th {\n",
       "        vertical-align: top;\n",
       "    }\n",
       "\n",
       "    .dataframe thead th {\n",
       "        text-align: right;\n",
       "    }\n",
       "</style>\n",
       "<table border=\"1\" class=\"dataframe\">\n",
       "  <thead>\n",
       "    <tr style=\"text-align: right;\">\n",
       "      <th></th>\n",
       "      <th>ID</th>\n",
       "      <th>Customer_ID</th>\n",
       "      <th>Month</th>\n",
       "      <th>Name</th>\n",
       "      <th>Age</th>\n",
       "      <th>SSN</th>\n",
       "      <th>Occupation</th>\n",
       "      <th>Annual_Income</th>\n",
       "      <th>Monthly_Inhand_Salary</th>\n",
       "      <th>Num_Bank_Accounts</th>\n",
       "      <th>...</th>\n",
       "      <th>Credit_Mix</th>\n",
       "      <th>Outstanding_Debt</th>\n",
       "      <th>Credit_Utilization_Ratio</th>\n",
       "      <th>Credit_History_Age</th>\n",
       "      <th>Payment_of_Min_Amount</th>\n",
       "      <th>Total_EMI_per_month</th>\n",
       "      <th>Amount_invested_monthly</th>\n",
       "      <th>Payment_Behaviour</th>\n",
       "      <th>Monthly_Balance</th>\n",
       "      <th>Credit_Score</th>\n",
       "    </tr>\n",
       "  </thead>\n",
       "  <tbody>\n",
       "    <tr>\n",
       "      <th>0</th>\n",
       "      <td>5634</td>\n",
       "      <td>3392</td>\n",
       "      <td>1</td>\n",
       "      <td>Aaron Maashoh</td>\n",
       "      <td>23.0</td>\n",
       "      <td>821000265.0</td>\n",
       "      <td>Scientist</td>\n",
       "      <td>19114.12</td>\n",
       "      <td>1824.843333</td>\n",
       "      <td>3.0</td>\n",
       "      <td>...</td>\n",
       "      <td>Good</td>\n",
       "      <td>809.98</td>\n",
       "      <td>26.822620</td>\n",
       "      <td>265.0</td>\n",
       "      <td>No</td>\n",
       "      <td>49.574949</td>\n",
       "      <td>21.46538</td>\n",
       "      <td>High_spent_Small_value_payments</td>\n",
       "      <td>312.494089</td>\n",
       "      <td>Good</td>\n",
       "    </tr>\n",
       "    <tr>\n",
       "      <th>1</th>\n",
       "      <td>5635</td>\n",
       "      <td>3392</td>\n",
       "      <td>2</td>\n",
       "      <td>Aaron Maashoh</td>\n",
       "      <td>23.0</td>\n",
       "      <td>821000265.0</td>\n",
       "      <td>Scientist</td>\n",
       "      <td>19114.12</td>\n",
       "      <td>1824.843333</td>\n",
       "      <td>3.0</td>\n",
       "      <td>...</td>\n",
       "      <td>Good</td>\n",
       "      <td>809.98</td>\n",
       "      <td>31.944960</td>\n",
       "      <td>266.0</td>\n",
       "      <td>No</td>\n",
       "      <td>49.574949</td>\n",
       "      <td>21.46538</td>\n",
       "      <td>Low_spent_Large_value_payments</td>\n",
       "      <td>284.629162</td>\n",
       "      <td>Good</td>\n",
       "    </tr>\n",
       "    <tr>\n",
       "      <th>2</th>\n",
       "      <td>5636</td>\n",
       "      <td>3392</td>\n",
       "      <td>3</td>\n",
       "      <td>Aaron Maashoh</td>\n",
       "      <td>23.0</td>\n",
       "      <td>821000265.0</td>\n",
       "      <td>Scientist</td>\n",
       "      <td>19114.12</td>\n",
       "      <td>1824.843333</td>\n",
       "      <td>3.0</td>\n",
       "      <td>...</td>\n",
       "      <td>Good</td>\n",
       "      <td>809.98</td>\n",
       "      <td>28.609352</td>\n",
       "      <td>267.0</td>\n",
       "      <td>No</td>\n",
       "      <td>49.574949</td>\n",
       "      <td>21.46538</td>\n",
       "      <td>Low_spent_Medium_value_payments</td>\n",
       "      <td>331.209863</td>\n",
       "      <td>Good</td>\n",
       "    </tr>\n",
       "    <tr>\n",
       "      <th>3</th>\n",
       "      <td>5637</td>\n",
       "      <td>3392</td>\n",
       "      <td>4</td>\n",
       "      <td>Aaron Maashoh</td>\n",
       "      <td>23.0</td>\n",
       "      <td>821000265.0</td>\n",
       "      <td>Scientist</td>\n",
       "      <td>19114.12</td>\n",
       "      <td>1824.843333</td>\n",
       "      <td>3.0</td>\n",
       "      <td>...</td>\n",
       "      <td>Good</td>\n",
       "      <td>809.98</td>\n",
       "      <td>31.377862</td>\n",
       "      <td>268.0</td>\n",
       "      <td>No</td>\n",
       "      <td>49.574949</td>\n",
       "      <td>21.46538</td>\n",
       "      <td>Low_spent_Small_value_payments</td>\n",
       "      <td>223.451310</td>\n",
       "      <td>Good</td>\n",
       "    </tr>\n",
       "    <tr>\n",
       "      <th>4</th>\n",
       "      <td>5638</td>\n",
       "      <td>3392</td>\n",
       "      <td>5</td>\n",
       "      <td>Aaron Maashoh</td>\n",
       "      <td>23.0</td>\n",
       "      <td>821000265.0</td>\n",
       "      <td>Scientist</td>\n",
       "      <td>19114.12</td>\n",
       "      <td>1824.843333</td>\n",
       "      <td>3.0</td>\n",
       "      <td>...</td>\n",
       "      <td>Good</td>\n",
       "      <td>809.98</td>\n",
       "      <td>24.797347</td>\n",
       "      <td>269.0</td>\n",
       "      <td>No</td>\n",
       "      <td>49.574949</td>\n",
       "      <td>21.46538</td>\n",
       "      <td>High_spent_Medium_value_payments</td>\n",
       "      <td>341.489231</td>\n",
       "      <td>Good</td>\n",
       "    </tr>\n",
       "  </tbody>\n",
       "</table>\n",
       "<p>5 rows × 28 columns</p>\n",
       "</div>"
      ],
      "text/plain": [
       "     ID  Customer_ID  Month           Name   Age          SSN Occupation  \\\n",
       "0  5634         3392      1  Aaron Maashoh  23.0  821000265.0  Scientist   \n",
       "1  5635         3392      2  Aaron Maashoh  23.0  821000265.0  Scientist   \n",
       "2  5636         3392      3  Aaron Maashoh  23.0  821000265.0  Scientist   \n",
       "3  5637         3392      4  Aaron Maashoh  23.0  821000265.0  Scientist   \n",
       "4  5638         3392      5  Aaron Maashoh  23.0  821000265.0  Scientist   \n",
       "\n",
       "   Annual_Income  Monthly_Inhand_Salary  Num_Bank_Accounts  ...  Credit_Mix  \\\n",
       "0       19114.12            1824.843333                3.0  ...        Good   \n",
       "1       19114.12            1824.843333                3.0  ...        Good   \n",
       "2       19114.12            1824.843333                3.0  ...        Good   \n",
       "3       19114.12            1824.843333                3.0  ...        Good   \n",
       "4       19114.12            1824.843333                3.0  ...        Good   \n",
       "\n",
       "   Outstanding_Debt  Credit_Utilization_Ratio Credit_History_Age  \\\n",
       "0            809.98                 26.822620              265.0   \n",
       "1            809.98                 31.944960              266.0   \n",
       "2            809.98                 28.609352              267.0   \n",
       "3            809.98                 31.377862              268.0   \n",
       "4            809.98                 24.797347              269.0   \n",
       "\n",
       "   Payment_of_Min_Amount  Total_EMI_per_month  Amount_invested_monthly  \\\n",
       "0                     No            49.574949                 21.46538   \n",
       "1                     No            49.574949                 21.46538   \n",
       "2                     No            49.574949                 21.46538   \n",
       "3                     No            49.574949                 21.46538   \n",
       "4                     No            49.574949                 21.46538   \n",
       "\n",
       "                  Payment_Behaviour Monthly_Balance  Credit_Score  \n",
       "0   High_spent_Small_value_payments      312.494089          Good  \n",
       "1    Low_spent_Large_value_payments      284.629162          Good  \n",
       "2   Low_spent_Medium_value_payments      331.209863          Good  \n",
       "3    Low_spent_Small_value_payments      223.451310          Good  \n",
       "4  High_spent_Medium_value_payments      341.489231          Good  \n",
       "\n",
       "[5 rows x 28 columns]"
      ]
     },
     "execution_count": 5,
     "metadata": {},
     "output_type": "execute_result"
    }
   ],
   "source": [
    "credit = pd.concat((credit_train,credit_test), ignore_index = True)\n",
    "credit.head()"
   ]
  },
  {
   "cell_type": "code",
   "execution_count": 6,
   "id": "a9cc7d48-dc0d-45d2-b885-549ae7656430",
   "metadata": {
    "tags": []
   },
   "outputs": [
    {
     "name": "stdout",
     "output_type": "stream",
     "text": [
      "length of train = 100000\n",
      "length of test = 50000\n",
      "length of full dataset = 150000\n"
     ]
    }
   ],
   "source": [
    "print(f'length of train = {len(credit_train)}')\n",
    "print(f'length of test = {len(credit_test)}')\n",
    "print(f'length of full dataset = {len(credit)}')"
   ]
  },
  {
   "cell_type": "markdown",
   "id": "e88e6d3b-5f23-4537-8011-8f42b08f3ccf",
   "metadata": {},
   "source": [
    "Testing set does not contain labels. Cannot use it as the model cannot compare its predictions with the ground truth\n",
    "\n",
    "We will use the training dataset and split it into train test. "
   ]
  },
  {
   "cell_type": "markdown",
   "id": "5e8d9d77-87a0-4c74-a148-3a82abbe41ff",
   "metadata": {},
   "source": [
    "# Data Cleaning"
   ]
  },
  {
   "cell_type": "code",
   "execution_count": 7,
   "id": "c269d104-7400-4964-99f8-dd8f3006ead5",
   "metadata": {
    "tags": []
   },
   "outputs": [
    {
     "name": "stdout",
     "output_type": "stream",
     "text": [
      "<class 'pandas.core.frame.DataFrame'>\n",
      "RangeIndex: 100000 entries, 0 to 99999\n",
      "Data columns (total 28 columns):\n",
      " #   Column                    Non-Null Count   Dtype  \n",
      "---  ------                    --------------   -----  \n",
      " 0   ID                        100000 non-null  int64  \n",
      " 1   Customer_ID               100000 non-null  int64  \n",
      " 2   Month                     100000 non-null  int64  \n",
      " 3   Name                      100000 non-null  object \n",
      " 4   Age                       100000 non-null  float64\n",
      " 5   SSN                       100000 non-null  float64\n",
      " 6   Occupation                100000 non-null  object \n",
      " 7   Annual_Income             100000 non-null  float64\n",
      " 8   Monthly_Inhand_Salary     100000 non-null  float64\n",
      " 9   Num_Bank_Accounts         100000 non-null  float64\n",
      " 10  Num_Credit_Card           100000 non-null  float64\n",
      " 11  Interest_Rate             100000 non-null  float64\n",
      " 12  Num_of_Loan               100000 non-null  float64\n",
      " 13  Type_of_Loan              100000 non-null  object \n",
      " 14  Delay_from_due_date       100000 non-null  float64\n",
      " 15  Num_of_Delayed_Payment    100000 non-null  float64\n",
      " 16  Changed_Credit_Limit      100000 non-null  float64\n",
      " 17  Num_Credit_Inquiries      100000 non-null  float64\n",
      " 18  Credit_Mix                100000 non-null  object \n",
      " 19  Outstanding_Debt          100000 non-null  float64\n",
      " 20  Credit_Utilization_Ratio  100000 non-null  float64\n",
      " 21  Credit_History_Age        100000 non-null  float64\n",
      " 22  Payment_of_Min_Amount     100000 non-null  object \n",
      " 23  Total_EMI_per_month       100000 non-null  float64\n",
      " 24  Amount_invested_monthly   100000 non-null  float64\n",
      " 25  Payment_Behaviour         100000 non-null  object \n",
      " 26  Monthly_Balance           100000 non-null  float64\n",
      " 27  Credit_Score              100000 non-null  object \n",
      "dtypes: float64(18), int64(3), object(7)\n",
      "memory usage: 21.4+ MB\n"
     ]
    }
   ],
   "source": [
    "credit_train.info()"
   ]
  },
  {
   "cell_type": "code",
   "execution_count": 8,
   "id": "4db55004-9e9c-4da9-a738-ddb3d00e60e7",
   "metadata": {
    "tags": []
   },
   "outputs": [
    {
     "name": "stdout",
     "output_type": "stream",
     "text": [
      "DataFrame has 'null' or 'NA' entries.\n",
      "Number of nulls or na = ID                              0\n",
      "Customer_ID                     0\n",
      "Month                           0\n",
      "Name                            0\n",
      "Age                             0\n",
      "SSN                             0\n",
      "Occupation                      0\n",
      "Annual_Income                   0\n",
      "Monthly_Inhand_Salary           0\n",
      "Num_Bank_Accounts               0\n",
      "Num_Credit_Card                 0\n",
      "Interest_Rate                   0\n",
      "Num_of_Loan                     0\n",
      "Type_of_Loan                    0\n",
      "Delay_from_due_date             0\n",
      "Num_of_Delayed_Payment          0\n",
      "Changed_Credit_Limit            0\n",
      "Num_Credit_Inquiries            0\n",
      "Credit_Mix                      0\n",
      "Outstanding_Debt                0\n",
      "Credit_Utilization_Ratio        0\n",
      "Credit_History_Age              0\n",
      "Payment_of_Min_Amount           0\n",
      "Total_EMI_per_month             0\n",
      "Amount_invested_monthly         0\n",
      "Payment_Behaviour               0\n",
      "Monthly_Balance                 0\n",
      "Credit_Score                50000\n",
      "dtype: int64\n"
     ]
    }
   ],
   "source": [
    "null_entries = credit.isna().any().any()\n",
    "num_null = credit.isna().sum()\n",
    "if null_entries:\n",
    "    print(\"DataFrame has 'null' or 'NA' entries.\")\n",
    "else:\n",
    "    print(\"DataFrame does not have 'null' or 'NA' entries.\")\n",
    "    \n",
    "print(f'Number of nulls or na = {num_null}')"
   ]
  },
  {
   "cell_type": "code",
   "execution_count": 9,
   "id": "442810f3-4d30-459e-9d6d-85c51fb03e97",
   "metadata": {
    "tags": []
   },
   "outputs": [],
   "source": [
    "credit_cp = credit_train"
   ]
  },
  {
   "cell_type": "markdown",
   "id": "1d2c8889-373e-4151-a02d-5d6c4d9b18ba",
   "metadata": {},
   "source": [
    "# Drop unimportant features"
   ]
  },
  {
   "cell_type": "code",
   "execution_count": 10,
   "id": "d03eaa9d-262a-4508-b053-99988ea5f3c2",
   "metadata": {
    "tags": []
   },
   "outputs": [],
   "source": [
    "#By examining the dataset, we can assume that the ID, Customer ID, Name columns are not really useful for classification of credit scores.\n",
    "credit_cp = credit_cp.drop(['ID','Customer_ID', 'Name', 'SSN'], axis = 1)"
   ]
  },
  {
   "cell_type": "code",
   "execution_count": 11,
   "id": "82cd8660-f2be-4ff0-8285-6774d4413c01",
   "metadata": {
    "tags": []
   },
   "outputs": [
    {
     "name": "stdout",
     "output_type": "stream",
     "text": [
      "<class 'pandas.core.frame.DataFrame'>\n",
      "RangeIndex: 100000 entries, 0 to 99999\n",
      "Data columns (total 24 columns):\n",
      " #   Column                    Non-Null Count   Dtype  \n",
      "---  ------                    --------------   -----  \n",
      " 0   Month                     100000 non-null  int64  \n",
      " 1   Age                       100000 non-null  float64\n",
      " 2   Occupation                100000 non-null  object \n",
      " 3   Annual_Income             100000 non-null  float64\n",
      " 4   Monthly_Inhand_Salary     100000 non-null  float64\n",
      " 5   Num_Bank_Accounts         100000 non-null  float64\n",
      " 6   Num_Credit_Card           100000 non-null  float64\n",
      " 7   Interest_Rate             100000 non-null  float64\n",
      " 8   Num_of_Loan               100000 non-null  float64\n",
      " 9   Type_of_Loan              100000 non-null  object \n",
      " 10  Delay_from_due_date       100000 non-null  float64\n",
      " 11  Num_of_Delayed_Payment    100000 non-null  float64\n",
      " 12  Changed_Credit_Limit      100000 non-null  float64\n",
      " 13  Num_Credit_Inquiries      100000 non-null  float64\n",
      " 14  Credit_Mix                100000 non-null  object \n",
      " 15  Outstanding_Debt          100000 non-null  float64\n",
      " 16  Credit_Utilization_Ratio  100000 non-null  float64\n",
      " 17  Credit_History_Age        100000 non-null  float64\n",
      " 18  Payment_of_Min_Amount     100000 non-null  object \n",
      " 19  Total_EMI_per_month       100000 non-null  float64\n",
      " 20  Amount_invested_monthly   100000 non-null  float64\n",
      " 21  Payment_Behaviour         100000 non-null  object \n",
      " 22  Monthly_Balance           100000 non-null  float64\n",
      " 23  Credit_Score              100000 non-null  object \n",
      "dtypes: float64(17), int64(1), object(6)\n",
      "memory usage: 18.3+ MB\n"
     ]
    }
   ],
   "source": [
    "credit_cp.info()"
   ]
  },
  {
   "cell_type": "markdown",
   "id": "021257bd-0051-4edc-8bf9-773e40d4a2fe",
   "metadata": {},
   "source": [
    "# Encoding categorical"
   ]
  },
  {
   "cell_type": "code",
   "execution_count": 12,
   "id": "f524ee06-787a-4ef7-a1e4-02b96310e227",
   "metadata": {
    "tags": []
   },
   "outputs": [],
   "source": [
    "from sklearn.preprocessing import OrdinalEncoder\n",
    "categories = ['Poor', 'Standard', 'Good']\n",
    "\n",
    "encoder = OrdinalEncoder(categories=[categories])\n",
    "\n",
    "credit_cp['Credit_Score'] = encoder.fit_transform(credit_cp[['Credit_Score']])"
   ]
  },
  {
   "cell_type": "code",
   "execution_count": 13,
   "id": "43b88538-94a1-4a43-b0b9-24fb70f0ee26",
   "metadata": {
    "tags": []
   },
   "outputs": [],
   "source": [
    "from sklearn.preprocessing import LabelEncoder\n",
    "label_encoder = LabelEncoder()\n",
    "credit_cp['Occupation'] = label_encoder.fit_transform(credit_cp['Occupation'])"
   ]
  },
  {
   "cell_type": "code",
   "execution_count": 14,
   "id": "c3d2925a-ed91-488e-8714-3fe617ad77a3",
   "metadata": {
    "tags": []
   },
   "outputs": [],
   "source": [
    "categories = ['Bad', 'Standard', 'Good']\n",
    "\n",
    "encoder = OrdinalEncoder(categories=[categories])\n",
    "\n",
    "credit_cp['Credit_Mix'] = encoder.fit_transform(credit_cp[['Credit_Mix']])"
   ]
  },
  {
   "cell_type": "code",
   "execution_count": 15,
   "id": "48b4d29e-e32b-4c7e-9f69-a3dcc2d825ec",
   "metadata": {
    "tags": []
   },
   "outputs": [],
   "source": [
    "categories_payment_behaviour = [\n",
    "    'Low_spent_Small_value_payments', \n",
    "    'Low_spent_Medium_value_payments', \n",
    "    'Low_spent_Large_value_payments', \n",
    "    'High_spent_Small_value_payments', \n",
    "    'High_spent_Medium_value_payments', \n",
    "    'High_spent_Large_value_payments'\n",
    "]\n",
    "\n",
    "encoder_payment_behaviour = OrdinalEncoder(categories=[categories_payment_behaviour])\n",
    "\n",
    "credit_cp['Payment_Behaviour'] = encoder_payment_behaviour.fit_transform(credit_cp[['Payment_Behaviour']])"
   ]
  },
  {
   "cell_type": "code",
   "execution_count": 16,
   "id": "66103782-85e2-4ebf-801e-3a8f09c27436",
   "metadata": {
    "tags": []
   },
   "outputs": [],
   "source": [
    "label_encoder = LabelEncoder()\n",
    "credit_cp['Payment_of_Min_Amount'] = label_encoder.fit_transform(credit_cp['Payment_of_Min_Amount'])"
   ]
  },
  {
   "cell_type": "code",
   "execution_count": 17,
   "id": "c5363336-b0a0-4a27-bc62-625ae4819962",
   "metadata": {
    "tags": []
   },
   "outputs": [
    {
     "data": {
      "text/plain": [
       "{'No Data',\n",
       " 'auto loan',\n",
       " 'credit-builder loan',\n",
       " 'debt consolidation loan',\n",
       " 'home equity loan',\n",
       " 'mortgage loan',\n",
       " 'not specified',\n",
       " 'payday loan',\n",
       " 'personal loan',\n",
       " 'student loan'}"
      ]
     },
     "execution_count": 17,
     "metadata": {},
     "output_type": "execute_result"
    }
   ],
   "source": [
    "unique_loans = set()\n",
    "for loans in credit_cp['Type_of_Loan'].str.split(','):\n",
    "    unique_loans.update(loans)\n",
    "unique_loans"
   ]
  },
  {
   "cell_type": "code",
   "execution_count": 18,
   "id": "21a3aef2-915c-4e91-ae4a-13eba7de1437",
   "metadata": {
    "tags": []
   },
   "outputs": [],
   "source": [
    "Type_of_loan = credit_cp['Type_of_Loan'].str.get_dummies(sep=',')\n",
    "credit_cp = pd.concat([credit_cp, Type_of_loan], axis=1)\n",
    "credit_cp = credit_cp.drop('Type_of_Loan',axis = 1)"
   ]
  },
  {
   "cell_type": "code",
   "execution_count": 19,
   "id": "b58a7dff-1e5a-4a32-9af9-1c4d9e743998",
   "metadata": {
    "tags": []
   },
   "outputs": [
    {
     "name": "stdout",
     "output_type": "stream",
     "text": [
      "<class 'pandas.core.frame.DataFrame'>\n",
      "RangeIndex: 100000 entries, 0 to 99999\n",
      "Data columns (total 33 columns):\n",
      " #   Column                    Non-Null Count   Dtype  \n",
      "---  ------                    --------------   -----  \n",
      " 0   Month                     100000 non-null  int64  \n",
      " 1   Age                       100000 non-null  float64\n",
      " 2   Occupation                100000 non-null  int32  \n",
      " 3   Annual_Income             100000 non-null  float64\n",
      " 4   Monthly_Inhand_Salary     100000 non-null  float64\n",
      " 5   Num_Bank_Accounts         100000 non-null  float64\n",
      " 6   Num_Credit_Card           100000 non-null  float64\n",
      " 7   Interest_Rate             100000 non-null  float64\n",
      " 8   Num_of_Loan               100000 non-null  float64\n",
      " 9   Delay_from_due_date       100000 non-null  float64\n",
      " 10  Num_of_Delayed_Payment    100000 non-null  float64\n",
      " 11  Changed_Credit_Limit      100000 non-null  float64\n",
      " 12  Num_Credit_Inquiries      100000 non-null  float64\n",
      " 13  Credit_Mix                100000 non-null  float64\n",
      " 14  Outstanding_Debt          100000 non-null  float64\n",
      " 15  Credit_Utilization_Ratio  100000 non-null  float64\n",
      " 16  Credit_History_Age        100000 non-null  float64\n",
      " 17  Payment_of_Min_Amount     100000 non-null  int32  \n",
      " 18  Total_EMI_per_month       100000 non-null  float64\n",
      " 19  Amount_invested_monthly   100000 non-null  float64\n",
      " 20  Payment_Behaviour         100000 non-null  float64\n",
      " 21  Monthly_Balance           100000 non-null  float64\n",
      " 22  Credit_Score              100000 non-null  float64\n",
      " 23  No Data                   100000 non-null  int64  \n",
      " 24  auto loan                 100000 non-null  int64  \n",
      " 25  credit-builder loan       100000 non-null  int64  \n",
      " 26  debt consolidation loan   100000 non-null  int64  \n",
      " 27  home equity loan          100000 non-null  int64  \n",
      " 28  mortgage loan             100000 non-null  int64  \n",
      " 29  not specified             100000 non-null  int64  \n",
      " 30  payday loan               100000 non-null  int64  \n",
      " 31  personal loan             100000 non-null  int64  \n",
      " 32  student loan              100000 non-null  int64  \n",
      "dtypes: float64(20), int32(2), int64(11)\n",
      "memory usage: 24.4 MB\n"
     ]
    }
   ],
   "source": [
    "credit_cp.info()"
   ]
  },
  {
   "cell_type": "code",
   "execution_count": 20,
   "id": "a978a132-dd3d-4ab3-97d6-85c3cd627593",
   "metadata": {
    "tags": []
   },
   "outputs": [
    {
     "data": {
      "text/html": [
       "<div>\n",
       "<style scoped>\n",
       "    .dataframe tbody tr th:only-of-type {\n",
       "        vertical-align: middle;\n",
       "    }\n",
       "\n",
       "    .dataframe tbody tr th {\n",
       "        vertical-align: top;\n",
       "    }\n",
       "\n",
       "    .dataframe thead th {\n",
       "        text-align: right;\n",
       "    }\n",
       "</style>\n",
       "<table border=\"1\" class=\"dataframe\">\n",
       "  <thead>\n",
       "    <tr style=\"text-align: right;\">\n",
       "      <th></th>\n",
       "      <th>Month</th>\n",
       "      <th>Age</th>\n",
       "      <th>Occupation</th>\n",
       "      <th>Annual_Income</th>\n",
       "      <th>Monthly_Inhand_Salary</th>\n",
       "      <th>Num_Bank_Accounts</th>\n",
       "      <th>Num_Credit_Card</th>\n",
       "      <th>Interest_Rate</th>\n",
       "      <th>Num_of_Loan</th>\n",
       "      <th>Delay_from_due_date</th>\n",
       "      <th>...</th>\n",
       "      <th>No Data</th>\n",
       "      <th>auto loan</th>\n",
       "      <th>credit-builder loan</th>\n",
       "      <th>debt consolidation loan</th>\n",
       "      <th>home equity loan</th>\n",
       "      <th>mortgage loan</th>\n",
       "      <th>not specified</th>\n",
       "      <th>payday loan</th>\n",
       "      <th>personal loan</th>\n",
       "      <th>student loan</th>\n",
       "    </tr>\n",
       "  </thead>\n",
       "  <tbody>\n",
       "    <tr>\n",
       "      <th>0</th>\n",
       "      <td>1</td>\n",
       "      <td>23.0</td>\n",
       "      <td>12</td>\n",
       "      <td>19114.12</td>\n",
       "      <td>1824.843333</td>\n",
       "      <td>3.0</td>\n",
       "      <td>4.0</td>\n",
       "      <td>3.0</td>\n",
       "      <td>4.0</td>\n",
       "      <td>3.0</td>\n",
       "      <td>...</td>\n",
       "      <td>0</td>\n",
       "      <td>1</td>\n",
       "      <td>1</td>\n",
       "      <td>0</td>\n",
       "      <td>1</td>\n",
       "      <td>0</td>\n",
       "      <td>0</td>\n",
       "      <td>0</td>\n",
       "      <td>1</td>\n",
       "      <td>0</td>\n",
       "    </tr>\n",
       "    <tr>\n",
       "      <th>1</th>\n",
       "      <td>2</td>\n",
       "      <td>23.0</td>\n",
       "      <td>12</td>\n",
       "      <td>19114.12</td>\n",
       "      <td>1824.843333</td>\n",
       "      <td>3.0</td>\n",
       "      <td>4.0</td>\n",
       "      <td>3.0</td>\n",
       "      <td>4.0</td>\n",
       "      <td>3.0</td>\n",
       "      <td>...</td>\n",
       "      <td>0</td>\n",
       "      <td>1</td>\n",
       "      <td>1</td>\n",
       "      <td>0</td>\n",
       "      <td>1</td>\n",
       "      <td>0</td>\n",
       "      <td>0</td>\n",
       "      <td>0</td>\n",
       "      <td>1</td>\n",
       "      <td>0</td>\n",
       "    </tr>\n",
       "    <tr>\n",
       "      <th>2</th>\n",
       "      <td>3</td>\n",
       "      <td>23.0</td>\n",
       "      <td>12</td>\n",
       "      <td>19114.12</td>\n",
       "      <td>1824.843333</td>\n",
       "      <td>3.0</td>\n",
       "      <td>4.0</td>\n",
       "      <td>3.0</td>\n",
       "      <td>4.0</td>\n",
       "      <td>3.0</td>\n",
       "      <td>...</td>\n",
       "      <td>0</td>\n",
       "      <td>1</td>\n",
       "      <td>1</td>\n",
       "      <td>0</td>\n",
       "      <td>1</td>\n",
       "      <td>0</td>\n",
       "      <td>0</td>\n",
       "      <td>0</td>\n",
       "      <td>1</td>\n",
       "      <td>0</td>\n",
       "    </tr>\n",
       "    <tr>\n",
       "      <th>3</th>\n",
       "      <td>4</td>\n",
       "      <td>23.0</td>\n",
       "      <td>12</td>\n",
       "      <td>19114.12</td>\n",
       "      <td>1824.843333</td>\n",
       "      <td>3.0</td>\n",
       "      <td>4.0</td>\n",
       "      <td>3.0</td>\n",
       "      <td>4.0</td>\n",
       "      <td>5.0</td>\n",
       "      <td>...</td>\n",
       "      <td>0</td>\n",
       "      <td>1</td>\n",
       "      <td>1</td>\n",
       "      <td>0</td>\n",
       "      <td>1</td>\n",
       "      <td>0</td>\n",
       "      <td>0</td>\n",
       "      <td>0</td>\n",
       "      <td>1</td>\n",
       "      <td>0</td>\n",
       "    </tr>\n",
       "    <tr>\n",
       "      <th>4</th>\n",
       "      <td>5</td>\n",
       "      <td>23.0</td>\n",
       "      <td>12</td>\n",
       "      <td>19114.12</td>\n",
       "      <td>1824.843333</td>\n",
       "      <td>3.0</td>\n",
       "      <td>4.0</td>\n",
       "      <td>3.0</td>\n",
       "      <td>4.0</td>\n",
       "      <td>6.0</td>\n",
       "      <td>...</td>\n",
       "      <td>0</td>\n",
       "      <td>1</td>\n",
       "      <td>1</td>\n",
       "      <td>0</td>\n",
       "      <td>1</td>\n",
       "      <td>0</td>\n",
       "      <td>0</td>\n",
       "      <td>0</td>\n",
       "      <td>1</td>\n",
       "      <td>0</td>\n",
       "    </tr>\n",
       "  </tbody>\n",
       "</table>\n",
       "<p>5 rows × 33 columns</p>\n",
       "</div>"
      ],
      "text/plain": [
       "   Month   Age  Occupation  Annual_Income  Monthly_Inhand_Salary  \\\n",
       "0      1  23.0          12       19114.12            1824.843333   \n",
       "1      2  23.0          12       19114.12            1824.843333   \n",
       "2      3  23.0          12       19114.12            1824.843333   \n",
       "3      4  23.0          12       19114.12            1824.843333   \n",
       "4      5  23.0          12       19114.12            1824.843333   \n",
       "\n",
       "   Num_Bank_Accounts  Num_Credit_Card  Interest_Rate  Num_of_Loan  \\\n",
       "0                3.0              4.0            3.0          4.0   \n",
       "1                3.0              4.0            3.0          4.0   \n",
       "2                3.0              4.0            3.0          4.0   \n",
       "3                3.0              4.0            3.0          4.0   \n",
       "4                3.0              4.0            3.0          4.0   \n",
       "\n",
       "   Delay_from_due_date  ...  No Data  auto loan  credit-builder loan  \\\n",
       "0                  3.0  ...        0          1                    1   \n",
       "1                  3.0  ...        0          1                    1   \n",
       "2                  3.0  ...        0          1                    1   \n",
       "3                  5.0  ...        0          1                    1   \n",
       "4                  6.0  ...        0          1                    1   \n",
       "\n",
       "   debt consolidation loan  home equity loan  mortgage loan  not specified  \\\n",
       "0                        0                 1              0              0   \n",
       "1                        0                 1              0              0   \n",
       "2                        0                 1              0              0   \n",
       "3                        0                 1              0              0   \n",
       "4                        0                 1              0              0   \n",
       "\n",
       "   payday loan  personal loan  student loan  \n",
       "0            0              1             0  \n",
       "1            0              1             0  \n",
       "2            0              1             0  \n",
       "3            0              1             0  \n",
       "4            0              1             0  \n",
       "\n",
       "[5 rows x 33 columns]"
      ]
     },
     "execution_count": 20,
     "metadata": {},
     "output_type": "execute_result"
    }
   ],
   "source": [
    "credit_cp.head()"
   ]
  },
  {
   "cell_type": "code",
   "execution_count": 21,
   "id": "c0f153d9-0d80-4f48-9bc8-65280eb32d6b",
   "metadata": {
    "tags": []
   },
   "outputs": [],
   "source": [
    "y = credit_cp['Credit_Score']\n",
    "X = credit_cp.drop('Credit_Score', axis = 1)"
   ]
  },
  {
   "cell_type": "markdown",
   "id": "d5215743-f2ed-4635-8718-4088b7be213b",
   "metadata": {},
   "source": [
    "# Class distribution"
   ]
  },
  {
   "cell_type": "code",
   "execution_count": 22,
   "id": "4262ab16-703d-4cce-a496-ebdac0f54f4f",
   "metadata": {
    "tags": []
   },
   "outputs": [
    {
     "data": {
      "image/png": "[encoded data removed]",
      "text/plain": [
       "<Figure size 800x600 with 1 Axes>"
      ]
     },
     "metadata": {},
     "output_type": "display_data"
    }
   ],
   "source": [
    "unique_classes, class_counts = np.unique(y, return_counts=True)\n",
    "\n",
    "plt.figure(figsize=(8, 6))\n",
    "plt.bar(unique_classes, class_counts, color='skyblue')\n",
    "plt.xlabel('Class')\n",
    "plt.ylabel('Frequency')\n",
    "plt.title('Class Distribution')\n",
    "plt.xticks(unique_classes)  \n",
    "plt.grid(axis='y', linestyle='--', alpha=0.7)\n",
    "plt.show()"
   ]
  },
  {
   "cell_type": "code",
   "execution_count": 23,
   "id": "8a759387-04cd-43f6-831a-c14e59be573c",
   "metadata": {
    "tags": []
   },
   "outputs": [],
   "source": [
    "from imblearn.over_sampling import RandomOverSampler"
   ]
  },
  {
   "cell_type": "code",
   "execution_count": 24,
   "id": "c87b62f8-607e-4bdb-b975-2ffe02aa85e3",
   "metadata": {
    "tags": []
   },
   "outputs": [],
   "source": [
    "ros = RandomOverSampler(random_state=42)\n",
    "X, y = ros.fit_resample(X, y)"
   ]
  },
  {
   "cell_type": "code",
   "execution_count": 25,
   "id": "a03d00c5-80a6-40da-9fac-0b681b8c22f8",
   "metadata": {
    "tags": []
   },
   "outputs": [
    {
     "data": {
      "image/png": "[encoded data removed]",
      "text/plain": [
       "<Figure size 800x600 with 1 Axes>"
      ]
     },
     "metadata": {},
     "output_type": "display_data"
    }
   ],
   "source": [
    "unique_classes, class_counts = np.unique(y, return_counts=True)\n",
    "\n",
    "plt.figure(figsize=(8, 6))\n",
    "plt.bar(unique_classes, class_counts, color='skyblue')\n",
    "plt.xlabel('Class')\n",
    "plt.ylabel('Frequency')\n",
    "plt.title('Class Distribution')\n",
    "plt.xticks(unique_classes)  \n",
    "plt.grid(axis='y', linestyle='--', alpha=0.7)\n",
    "plt.show()"
   ]
  },
  {
   "cell_type": "markdown",
   "id": "876d0b44-cf20-4ae0-a180-d947ea833e10",
   "metadata": {},
   "source": [
    "# Feature Importance and Mutual Information"
   ]
  },
  {
   "cell_type": "code",
   "execution_count": 26,
   "id": "5ee100b4-6c00-44d9-9cb8-17775d2cc97f",
   "metadata": {
    "scrolled": true,
    "tags": []
   },
   "outputs": [
    {
     "name": "stdout",
     "output_type": "stream",
     "text": [
      "Feature 'Month': Mutual Information Score = 0.7967162534564378\n",
      "Feature 'Age': Mutual Information Score = 0.7955155280071973\n",
      "Feature 'Occupation': Mutual Information Score = 0.7855155375253737\n",
      "Feature 'Annual_Income': Mutual Information Score = 0.7804215808573807\n",
      "Feature 'Monthly_Inhand_Salary': Mutual Information Score = 0.7184720988059026\n",
      "Feature 'Num_Bank_Accounts': Mutual Information Score = 0.35603069054810255\n",
      "Feature 'Num_Credit_Card': Mutual Information Score = 0.32556699965283364\n",
      "Feature 'Interest_Rate': Mutual Information Score = 0.2653896427588238\n",
      "Feature 'Num_of_Loan': Mutual Information Score = 0.23678334052810834\n",
      "Feature 'Delay_from_due_date': Mutual Information Score = 0.17328120162223626\n",
      "Feature 'Num_of_Delayed_Payment': Mutual Information Score = 0.17236344002833648\n",
      "Feature 'Changed_Credit_Limit': Mutual Information Score = 0.16307421012764056\n",
      "Feature 'Num_Credit_Inquiries': Mutual Information Score = 0.15775852148843472\n",
      "Feature 'Credit_Mix': Mutual Information Score = 0.15428272440428836\n",
      "Feature 'Outstanding_Debt': Mutual Information Score = 0.14816451225086658\n",
      "Feature 'Credit_Utilization_Ratio': Mutual Information Score = 0.14793931198405375\n",
      "Feature 'Credit_History_Age': Mutual Information Score = 0.13208155684880274\n",
      "Feature 'Payment_of_Min_Amount': Mutual Information Score = 0.1286028633043761\n",
      "Feature 'Total_EMI_per_month': Mutual Information Score = 0.03824270317090206\n",
      "Feature 'Amount_invested_monthly': Mutual Information Score = 0.021081426243310997\n",
      "Feature 'Payment_Behaviour': Mutual Information Score = 0.019595416328852977\n",
      "Feature 'Monthly_Balance': Mutual Information Score = 0.019493389006578266\n",
      "Feature 'No Data': Mutual Information Score = 0.01904730934862986\n",
      "Feature 'auto loan': Mutual Information Score = 0.0173404566679789\n",
      "Feature 'credit-builder loan': Mutual Information Score = 0.016948440229083594\n",
      "Feature 'debt consolidation loan': Mutual Information Score = 0.01674637805960799\n",
      "Feature 'home equity loan': Mutual Information Score = 0.016597716926732176\n",
      "Feature 'mortgage loan': Mutual Information Score = 0.01575519864696595\n",
      "Feature 'not specified': Mutual Information Score = 0.01573871913288727\n",
      "Feature 'payday loan': Mutual Information Score = 0.012364460609752825\n",
      "Feature 'personal loan': Mutual Information Score = 0.005485517798667683\n",
      "Feature 'student loan': Mutual Information Score = 0.0011807566102128852\n"
     ]
    }
   ],
   "source": [
    "from sklearn.feature_selection import mutual_info_classif\n",
    "mi_scores = mutual_info_classif(X, y)\n",
    "\n",
    "for i, score in enumerate(sorted(mi_scores, reverse = True)):\n",
    "    print(f\"Feature '{X.columns[i]}': Mutual Information Score = {score}\")"
   ]
  },
  {
   "cell_type": "code",
   "execution_count": 27,
   "id": "5fc1fc8c-e11a-4758-99b8-f7e734876fe3",
   "metadata": {
    "tags": []
   },
   "outputs": [
    {
     "data": {
      "image/png": "[encoded data removed]",
      "text/plain": [
       "<Figure size 1000x500 with 1 Axes>"
      ]
     },
     "metadata": {},
     "output_type": "display_data"
    }
   ],
   "source": [
    "import matplotlib.pyplot as plt\n",
    "\n",
    "plt.figure(figsize=(10, 5))\n",
    "plt.bar(range(len(mi_scores)), sorted(mi_scores, reverse=True))\n",
    "plt.xlabel('Feature Index')\n",
    "plt.ylabel('Mutual Information Score')\n",
    "plt.title('Mutual Information Scores for Features')\n",
    "plt.xticks(range(len(mi_scores)), X.columns, rotation=90)\n",
    "\n",
    "plt.show()"
   ]
  },
  {
   "cell_type": "code",
   "execution_count": 28,
   "id": "93a45a8e-ea65-4443-8f2a-8f0b1e84beca",
   "metadata": {
    "tags": []
   },
   "outputs": [
    {
     "name": "stdout",
     "output_type": "stream",
     "text": [
      "[ 4  3 19 14 18 21 15 13  7  9 17 12 11 16  5  6  8 10  1 22 23 27 26 30\n",
      " 24 29 25 31 28 20  0  2]\n",
      "Selected features: Index(['Monthly_Inhand_Salary', 'Annual_Income', 'Amount_invested_monthly',\n",
      "       'Outstanding_Debt', 'Total_EMI_per_month'],\n",
      "      dtype='object')\n"
     ]
    }
   ],
   "source": [
    "import numpy as np\n",
    "\n",
    "# Sort features based on their mutual information scores\n",
    "sorted_indices = np.argsort(mi_scores)[::-1]\n",
    "print(sorted_indices)\n",
    "# Select the top N features with the highest MI scores\n",
    "top_n = 5  # You can change this to select a different number of features\n",
    "selected_features = X.columns[sorted_indices[:top_n]]\n",
    "\n",
    "# Now 'selected_features' contains the names of the features with the highest MI scores\n",
    "print(\"Selected features:\", selected_features)\n"
   ]
  },
  {
   "cell_type": "code",
   "execution_count": 29,
   "id": "211a7cfb-e68e-4f94-99fd-f9af48b691bf",
   "metadata": {},
   "outputs": [
    {
     "data": {
      "text/plain": [
       "(159522, 1)"
      ]
     },
     "execution_count": 29,
     "metadata": {},
     "output_type": "execute_result"
    }
   ],
   "source": [
    "import numpy as np \n",
    "from sklearn.decomposition import PCA  \n",
    "import matplotlib.pyplot as plt\n",
    "pca = PCA(n_components = 0.95)\n",
    "X_pca = pca.fit_transform(X)\n",
    "X_pca.shape\t\t #size of the projected dataset"
   ]
  },
  {
   "cell_type": "code",
   "execution_count": 30,
   "id": "2e0875bc-8709-44ac-825c-a9bce647c6c8",
   "metadata": {
    "tags": []
   },
   "outputs": [],
   "source": [
    "from sklearn.model_selection import train_test_split\n",
    "X_train2, X_test2, y_train2, y_test2 = train_test_split(X_pca,y, test_size=0.2, random_state = 42)"
   ]
  },
  {
   "cell_type": "code",
   "execution_count": 31,
   "id": "4c278314-4793-44a2-9384-7c88bc26f8a7",
   "metadata": {
    "tags": []
   },
   "outputs": [
    {
     "data": {
      "image/png": "[encoded data removed]",
      "text/plain": [
       "<Figure size 1000x600 with 1 Axes>"
      ]
     },
     "metadata": {},
     "output_type": "display_data"
    }
   ],
   "source": [
    "from sklearn.svm import SVC\n",
    "from sklearn.metrics import accuracy_score\n",
    "import matplotlib.pyplot as plt\n",
    "\n",
    "# Define different values of C and gamma\n",
    "C_values = [0.1, 1, 10]\n",
    "\n",
    "# Lists to store results\n",
    "Cs = []\n",
    "test_accuracies = []\n",
    "train_accuracies = []\n",
    "\n",
    "for C in C_values:\n",
    "        # Create and fit the SVM model\n",
    "    svm_model = SVC(kernel='poly', C=C)\n",
    "    svm_model.fit(X_train2, y_train2)\n",
    "\n",
    "            # Predict on the test set\n",
    "    y_pred = svm_model.predict(X_test2)\n",
    "\n",
    "            # Calculate accuracy on train and test sets\n",
    "    train_acc = svm_model.score(X_train2, y_train2)\n",
    "    test_acc = svm_model.score(X_test2, y_test2)\n",
    "\n",
    "            # Append values to lists\n",
    "    Cs.append(C)\n",
    "    test_accuracies.append(test_acc)\n",
    "    train_accuracies.append(train_acc)\n",
    "\n",
    "# Plot the results\n",
    "plt.figure(figsize=(10, 6))\n",
    "plt.plot(Cs, train_accuracies, 'ro', label='Train Accuracy')\n",
    "plt.plot(Cs, test_accuracies, 'go', label='Test Accuracy')\n",
    "plt.title('Accuracy vs. C (Regularization Parameter)')\n",
    "plt.xlabel('C (Regularization Parameter)')\n",
    "plt.ylabel('Accuracy')\n",
    "# plt.xscale('log')  # Set x-axis to logarithmic scale for better visualization\n",
    "plt.grid(True)\n",
    "# plt.legend()\n",
    "plt.show()"
   ]
  },
  {
   "cell_type": "markdown",
   "id": "aa7ae2b0-f216-4ada-aabd-b038e460f71a",
   "metadata": {},
   "source": [
    "# Scaling"
   ]
  },
  {
   "cell_type": "code",
   "execution_count": 75,
   "id": "b40df1ee-87d5-4f91-8042-7fdcd94d8b01",
   "metadata": {
    "tags": []
   },
   "outputs": [],
   "source": [
    "from sklearn.preprocessing import MinMaxScaler #import\n",
    "scaler = MinMaxScaler()\n",
    "X = scaler.fit_transform(X)"
   ]
  },
  {
   "cell_type": "markdown",
   "id": "029498a5-97af-4c86-a46c-cd064119885c",
   "metadata": {},
   "source": [
    "# Train Test Split"
   ]
  },
  {
   "cell_type": "code",
   "execution_count": 76,
   "id": "e76af846-8cdf-4fba-8254-5e3e0d90a4d5",
   "metadata": {
    "tags": []
   },
   "outputs": [],
   "source": [
    "from sklearn.model_selection import train_test_split\n",
    "\n",
    "X_train, X_test, y_train, y_test = train_test_split(X,y, test_size=0.2, random_state = 42)"
   ]
  },
  {
   "cell_type": "code",
   "execution_count": 1,
   "id": "2ccdb011-ff20-46c2-9307-de08f41057f6",
   "metadata": {
    "tags": []
   },
   "outputs": [
    {
     "ename": "NameError",
     "evalue": "name 'X' is not defined",
     "output_type": "error",
     "traceback": [
      "\u001b[1;31m---------------------------------------------------------------------------\u001b[0m",
      "\u001b[1;31mNameError\u001b[0m                                 Traceback (most recent call last)",
      "\u001b[1;32m~\\AppData\\Local\\Temp\\ipykernel_28516\\1989868613.py\u001b[0m in \u001b[0;36m<cell line: 2>\u001b[1;34m()\u001b[0m\n\u001b[0;32m      1\u001b[0m \u001b[1;32mfrom\u001b[0m \u001b[0msklearn\u001b[0m\u001b[1;33m.\u001b[0m\u001b[0mmodel_selection\u001b[0m \u001b[1;32mimport\u001b[0m \u001b[0mtrain_test_split\u001b[0m\u001b[1;33m\u001b[0m\u001b[1;33m\u001b[0m\u001b[0m\n\u001b[1;32m----> 2\u001b[1;33m \u001b[0mX_train3\u001b[0m\u001b[1;33m,\u001b[0m \u001b[0mX_test3\u001b[0m\u001b[1;33m,\u001b[0m \u001b[0my_train3\u001b[0m\u001b[1;33m,\u001b[0m \u001b[0my_test3\u001b[0m \u001b[1;33m=\u001b[0m \u001b[0mtrain_test_split\u001b[0m\u001b[1;33m(\u001b[0m\u001b[0mX\u001b[0m\u001b[1;33m[\u001b[0m\u001b[1;33m:\u001b[0m\u001b[1;36m5000\u001b[0m\u001b[1;33m]\u001b[0m\u001b[1;33m,\u001b[0m\u001b[0my\u001b[0m\u001b[1;33m,\u001b[0m \u001b[0mtest_size\u001b[0m\u001b[1;33m=\u001b[0m\u001b[1;36m0.2\u001b[0m\u001b[1;33m,\u001b[0m \u001b[0mrandom_state\u001b[0m \u001b[1;33m=\u001b[0m \u001b[1;36m42\u001b[0m\u001b[1;33m)\u001b[0m\u001b[1;33m\u001b[0m\u001b[1;33m\u001b[0m\u001b[0m\n\u001b[0m",
      "\u001b[1;31mNameError\u001b[0m: name 'X' is not defined"
     ]
    }
   ],
   "source": [
    "from sklearn.model_selection import train_test_split\n",
    "X_train3, X_test3, y_train3, y_test3 = train_test_split(X[:5000],y, test_size=0.2, random_state = 42)"
   ]
  },
  {
   "cell_type": "code",
   "execution_count": 48,
   "id": "2c39a03b-2004-4550-a24b-c51fdf828584",
   "metadata": {
    "tags": []
   },
   "outputs": [
    {
     "data": {
      "text/plain": [
       "32"
      ]
     },
     "execution_count": 48,
     "metadata": {},
     "output_type": "execute_result"
    }
   ],
   "source": [
    "len(X_train[1])"
   ]
  },
  {
   "cell_type": "markdown",
   "id": "2eb0825e-47c5-4c24-ae9d-c66a6d67eeb1",
   "metadata": {},
   "source": [
    "# Decision Tree Classifier (with hyperparameter tuning)"
   ]
  },
  {
   "cell_type": "code",
   "execution_count": null,
   "id": "3c31f315-cc9a-4353-81ef-7e24ccbc05c7",
   "metadata": {
    "tags": []
   },
   "outputs": [],
   "source": [
    "from sklearn.tree import DecisionTreeClassifier\n",
    "from sklearn.metrics import accuracy_score\n",
    "import matplotlib.pyplot as plt\n",
    "\n",
    "depths = []\n",
    "test_accuracies = []\n",
    "train_accuracies = []\n",
    "max_depth_values = range(10,31)  \n",
    "\n",
    "\n",
    "for max_depth in max_depth_values:\n",
    "    clf = DecisionTreeClassifier(max_depth=max_depth)\n",
    "    clf.fit(X_train, y_train)\n",
    "    # Predict on the test set\n",
    "    y_pred = clf.predict(X_test)\n",
    "    \n",
    "    train_acc = clf.score(X_train, y_train)\n",
    "    test_acc = clf.score(X_test, y_test)\n",
    "    depths.append(max_depth)\n",
    "    test_accuracies.append(test_acc)\n",
    "    train_accuracies.append(train_acc)\n",
    "# Plot the results\n",
    "plt.figure(figsize=(10, 6))\n",
    "plt.plot(depths, train_accuracies, 'ro')\n",
    "plt.plot(depths, test_accuracies, 'go', )\n",
    "plt.title('Accuracy vs. Max Depth')\n",
    "plt.xlabel('Max Depth')\n",
    "plt.ylabel('Accuracy')\n",
    "plt.xticks(depths)\n",
    "plt.grid(True)\n",
    "plt.show()\n"
   ]
  },
  {
   "cell_type": "markdown",
   "id": "7da75b29-8226-454b-8281-e1c9819bac00",
   "metadata": {},
   "source": [
    "depth of 27 is the best"
   ]
  },
  {
   "cell_type": "markdown",
   "id": "1b4e9ef2-d01a-49a2-9675-4a79c7de44f2",
   "metadata": {},
   "source": [
    "# KNN classifier (with hyperparameter tuning)"
   ]
  },
  {
   "cell_type": "code",
   "execution_count": null,
   "id": "82336356-8c1c-45bc-b4bc-fc380b1ffa38",
   "metadata": {
    "tags": []
   },
   "outputs": [],
   "source": [
    "from sklearn.neighbors import KNeighborsClassifier\n",
    "train_score = {}\n",
    "test_score = {}\n",
    "n_neighbors = np.arange(2, 40, 2)\n",
    "for neighbor in n_neighbors:\n",
    "    knn = KNeighborsClassifier(n_neighbors=neighbor)\n",
    "    knn.fit(X_train, y_train)\n",
    "    train_score[neighbor]=knn.score(X_train, y_train)\n",
    "    test_score[neighbor]=knn.score(X_test, y_test)\n",
    "plt.plot(n_neighbors, train_score.values(), label=\"Train Accuracy\")\n",
    "plt.plot(n_neighbors, test_score.values(), label=\"Test Accuracy\")\n",
    "plt.xlabel(\"Number Of Neighbors\")\n",
    "plt.ylabel(\"Accuracy\")\n",
    "plt.title(\"KNN: Varying number of Neighbors\")\n",
    "plt.legend()\n",
    "plt.xlim(0, 40)\n",
    "plt.ylim(0.70, 0.90)\n",
    "plt.grid()\n",
    "plt.show()"
   ]
  },
  {
   "cell_type": "markdown",
   "id": "8b17c30c-da0f-419a-b61f-0e23bcf938a9",
   "metadata": {
    "tags": []
   },
   "source": [
    "# Naive Bayes"
   ]
  },
  {
   "cell_type": "code",
   "execution_count": null,
   "id": "5606a2cd-e28f-404f-a14b-8a88bd722426",
   "metadata": {
    "tags": []
   },
   "outputs": [],
   "source": [
    "from sklearn.naive_bayes import GaussianNB\n",
    "clf = GaussianNB()\n",
    "clf.fit(X_train, y_train)"
   ]
  },
  {
   "cell_type": "code",
   "execution_count": null,
   "id": "28a58d29-44df-4fbb-b2da-7cacda23ab28",
   "metadata": {
    "tags": []
   },
   "outputs": [],
   "source": [
    "print(clf.score(X_train,y_train))\n",
    "print(clf.score(X_test, y_test))"
   ]
  },
  {
   "cell_type": "markdown",
   "id": "3ded3ea8-a6d1-4e07-9656-4be25583b0eb",
   "metadata": {},
   "source": [
    "# SVM - nonlinear kernel (with hyperparameter tuning)"
   ]
  },
  {
   "cell_type": "code",
   "execution_count": null,
   "id": "43ba6ff3-a123-47d1-b15f-fff7dffcdef0",
   "metadata": {
    "tags": []
   },
   "outputs": [],
   "source": [
    "from sklearn.model_selection import GridSearchCV\n",
    "from sklearn.svm import SVC\n",
    "\n",
    "# Define the parameter grid for Grid Search\n",
    "param_grid = {'C': [0.1, 1, 10],\n",
    "              'gamma': [0.1, 1, 10],\n",
    "              'kernel': ['poly', 'rbf']}\n",
    "\n",
    "# Initialize the SVM classifier\n",
    "svm_classifier = SVC()\n",
    "\n",
    "# Perform Grid Search with 5-fold cross-validation\n",
    "grid_search = GridSearchCV(svm_classifier, param_grid, cv=5, scoring='accuracy')\n",
    "\n",
    "# Fit the Grid Search to the data\n",
    "grid_search.fit(X_train, y_train)\n",
    "\n",
    "# Get the best hyperparameters\n",
    "best_params = grid_search.best_params_\n",
    "print(\"Best Parameters:\", best_params)\n",
    "\n",
    "# Initialize SVM classifier with the best hyperparameters\n",
    "best_svm_classifier = SVC(**best_params)\n",
    "\n",
    "# Train the classifier on the entire training data\n",
    "best_svm_classifier.fit(X_train, y_train)\n",
    "\n",
    "# Evaluate the classifier on the test data\n",
    "test_accuracy = best_svm_classifier.score(X_test, y_test)\n",
    "print(\"Test Accuracy:\", test_accuracy)\n"
   ]
  },
  {
   "cell_type": "code",
   "execution_count": null,
   "id": "1c7c0569-6f26-4fb3-abe7-5364e825af7b",
   "metadata": {
    "tags": []
   },
   "outputs": [],
   "source": [
    "svm_classifier = SVC(kernel='poly')\n",
    "\n",
    "svm_classifier.fit(X_train, y_train)\n",
    "\n",
    "svm_classifier.score(X_test, y_test)"
   ]
  },
  {
   "cell_type": "code",
   "execution_count": null,
   "id": "ab7d18f1-04ea-49e6-9703-3b585ddeefcc",
   "metadata": {
    "tags": []
   },
   "outputs": [],
   "source": [
    "svm_linear = SVC(kernel='linear')\n",
    "\n",
    "svm_linear.fit(X_train, y_train)\n",
    "\n",
    "svm_linear.score(X_test, y_test)"
   ]
  },
  {
   "cell_type": "code",
   "execution_count": null,
   "id": "0d66b537-934d-48d5-9522-e769eff7d990",
   "metadata": {
    "tags": []
   },
   "outputs": [],
   "source": [
    "from sklearn.svm import SVC\n",
    "from sklearn.metrics import accuracy_score\n",
    "import matplotlib.pyplot as plt\n",
    "\n",
    "# Define different values of C and gamma\n",
    "C_values = [0.1, 1, 10]\n",
    "gamma_values = [1, 0.1, 0.01]\n",
    "\n",
    "# Lists to store results\n",
    "Cs = []\n",
    "gammas = []\n",
    "test_accuracies = []\n",
    "train_accuracies = []\n",
    "\n",
    "for C in C_values:\n",
    "    for gamma in gamma_values:\n",
    "        # Create and fit the SVM model\n",
    "        svm_model = SVC(kernel='rbf', C=C, gamma=gamma)\n",
    "        svm_model.fit(X_train, y_train)\n",
    "\n",
    "        # Predict on the test set\n",
    "        y_pred = svm_model.predict(X_test)\n",
    "\n",
    "        # Calculate accuracy on train and test sets\n",
    "        train_acc = svm_model.score(X_train, y_train)\n",
    "        test_acc = svm_model.score(X_test, y_test)\n",
    "\n",
    "        # Append values to lists\n",
    "        Cs.append(C)\n",
    "        gammas.append(gamma)\n",
    "        test_accuracies.append(test_acc)\n",
    "        train_accuracies.append(train_acc)\n",
    "\n",
    "# Plot the results\n",
    "plt.figure(figsize=(10, 6))\n",
    "plt.plot(Cs, train_accuracies, 'ro', label='Train Accuracy')\n",
    "plt.plot(Cs, test_accuracies, 'go', label='Test Accuracy')\n",
    "plt.title('Accuracy vs. C (Regularization Parameter)')\n",
    "plt.xlabel('C (Regularization Parameter)')\n",
    "plt.ylabel('Accuracy')\n",
    "# plt.xscale('log')  # Set x-axis to logarithmic scale for better visualization\n",
    "plt.grid(True)\n",
    "# plt.legend()\n",
    "plt.show()"
   ]
  },
  {
   "cell_type": "code",
   "execution_count": null,
   "id": "541caff9-d7d1-4863-92c6-bb464c9fb9f1",
   "metadata": {
    "tags": []
   },
   "outputs": [],
   "source": [
    "from sklearn.svm import SVC\n",
    "from sklearn.metrics import accuracy_score\n",
    "import matplotlib.pyplot as plt\n",
    "\n",
    "# Define different values of C and gamma\n",
    "C_values = [0.1, 1, 10]\n",
    "gamma_values = [1, 0.1, 0.01]\n",
    "\n",
    "# Lists to store results\n",
    "Cs = []\n",
    "gammas = []\n",
    "test_accuracies = []\n",
    "train_accuracies = []\n",
    "\n",
    "for C in C_values:\n",
    "    for gamma in gamma_values:\n",
    "        # Create and fit the SVM model\n",
    "        svm_model = SVC(kernel='linear', C=C, gamma=gamma)\n",
    "        svm_model.fit(X_train, y_train)\n",
    "\n",
    "        # Predict on the test set\n",
    "        y_pred = svm_model.predict(X_test)\n",
    "\n",
    "        # Calculate accuracy on train and test sets\n",
    "        train_acc = svm_model.score(X_train, y_train)\n",
    "        test_acc = svm_model.score(X_test, y_test)\n",
    "\n",
    "        # Append values to lists\n",
    "        Cs.append(C)\n",
    "        gammas.append(gamma)\n",
    "        test_accuracies.append(test_acc)\n",
    "        train_accuracies.append(train_acc)\n",
    "\n",
    "# Plot the results\n",
    "plt.figure(figsize=(10, 6))\n",
    "plt.plot(Cs, train_accuracies, 'ro', label='Train Accuracy')\n",
    "plt.plot(Cs, test_accuracies, 'go', label='Test Accuracy')\n",
    "plt.title('Accuracy vs. C (Regularization Parameter)')\n",
    "plt.xlabel('C (Regularization Parameter)')\n",
    "plt.ylabel('Accuracy')\n",
    "# plt.xscale('log')  # Set x-axis to logarithmic scale for better visualization\n",
    "plt.grid(True)\n",
    "# plt.legend()\n",
    "plt.show()"
   ]
  },
  {
   "cell_type": "markdown",
   "id": "86287e17-5ac9-42ce-a335-a195c52efbfc",
   "metadata": {},
   "source": [
    "# Feature Selection"
   ]
  },
  {
   "cell_type": "code",
   "execution_count": null,
   "id": "0cb45aed-a97d-4e7d-9145-e32f9cb777c9",
   "metadata": {
    "tags": []
   },
   "outputs": [],
   "source": [
    "import numpy as np\n",
    "import matplotlib.pyplot as plt\n",
    "\n",
    "def compare_feature_selection(X_train, X_test, y_train, y_test, classifier_type):\n",
    "    classifiers = {\n",
    "        \"Decision Tree\": DecisionTreeClassifier(),\n",
    "        \"KNN\": KNeighborsClassifier(),\n",
    "        \"GaussianNB\": GaussianNB(),\n",
    "        \"SVM Linear\": SVC(kernel='linear'),\n",
    "        \"SVM Poly\": SVC(kernel='poly')\n",
    "    }\n",
    "    \n",
    "    if classifier_type not in classifiers:\n",
    "        raise ValueError(\"Invalid classifier type. Choose one of: Decision Tree, KNN, GaussianNB, SVM Linear, SVM Poly\")\n",
    "    \n",
    "    classifier = classifiers[classifier_type]\n",
    "    \n",
    "    max_features = range(1, len(X_train[0]) + 1)\n",
    "    results = []\n",
    "    \n",
    "    for num_features in max_features:\n",
    "        classifier.fit(X_train[:, :num_features], y_train)\n",
    "        train_acc = classifier.score(X_train[:, :num_features], y_train)\n",
    "        test_acc = classifier.score(X_test[:, :num_features], y_test)\n",
    "        results.append(test_acc)\n",
    "    \n",
    "    plt.plot(max_features, results)\n",
    "    plt.title('Accuracy vs. Number of Features')\n",
    "    plt.xlabel('Number of Features')\n",
    "    plt.ylabel('Accuracy')\n",
    "    plt.grid(True)\n",
    "    plt.show()\n",
    "    return results\n",
    "\n",
    "\n",
    "results_dt = compare_feature_selection(X_train, X_test, y_train, y_test, \"Decision Tree\")\n",
    "print(results_dt)"
   ]
  },
  {
   "cell_type": "code",
   "execution_count": null,
   "id": "8783d4ef-2b6b-4bf2-8137-f95d1eece2cb",
   "metadata": {
    "tags": []
   },
   "outputs": [],
   "source": [
    "results_NB = compare_feature_selection(X_train, X_test, y_train, y_test, \"GaussianNB\")\n",
    "print(results_NB)"
   ]
  },
  {
   "cell_type": "code",
   "execution_count": null,
   "id": "78ef99b6-3aab-4598-b2c1-8a4f01125d2f",
   "metadata": {
    "tags": []
   },
   "outputs": [],
   "source": [
    "from sklearn.metrics import f1_score, confusion_matrix, accuracy_score, precision_recall_fscore_support, classification_report\n",
    "\n",
    "f1_score(y_test, y_predict,average = 'macro')"
   ]
  },
  {
   "cell_type": "code",
   "execution_count": null,
   "id": "7be64d71-2de3-498f-bcce-9c6629143944",
   "metadata": {
    "tags": []
   },
   "outputs": [],
   "source": [
    "import seaborn as sns\n",
    "sns.heatmap(confusion_matrix(y_test, y_predict), annot=True)"
   ]
  },
  {
   "cell_type": "code",
   "execution_count": null,
   "id": "22c0b3f2-320d-4e84-b950-344a2b42e16d",
   "metadata": {
    "tags": []
   },
   "outputs": [],
   "source": [
    "precision_recall_fscore_support(y_test, y_predict)"
   ]
  },
  {
   "cell_type": "code",
   "execution_count": null,
   "id": "002451f3-8fe2-4a0a-a6c9-9257ab76c9b0",
   "metadata": {
    "tags": []
   },
   "outputs": [],
   "source": [
    "print(classification_report(y_test, y_predict))"
   ]
  },
  {
   "cell_type": "code",
   "execution_count": null,
   "id": "a516f614-37a5-4e6e-8847-4228a90fe32c",
   "metadata": {
    "tags": []
   },
   "outputs": [],
   "source": [
    "from sklearn import tree\n",
    "\n",
    "tree.plot_tree(clf)"
   ]
  },
  {
   "cell_type": "code",
   "execution_count": null,
   "id": "348a5045-127d-4740-98cf-b538a7b89c98",
   "metadata": {
    "tags": []
   },
   "outputs": [],
   "source": [
    "from sklearn.model_selection import cross_validate\n",
    "results = cross_validate(clf, X, y, cv=4, return_train_score=True, scoring=('accuracy', 'f1_macro', 'recall_macro', 'precision_macro', 'roc_auc_ovr'))\n",
    "results"
   ]
  },
  {
   "cell_type": "code",
   "execution_count": null,
   "id": "303e0afb-f95a-4407-b8ba-4206aa01bc00",
   "metadata": {
    "tags": []
   },
   "outputs": [],
   "source": [
    "from sklearn.model_selection import GridSearchCV\n",
    "# Create the parameter grid based on the results of random search \n",
    "params = {\n",
    "    'max_depth': [2, 3, 5, 10, 20],\n",
    "    'min_samples_leaf': [5, 10, 20, 50, 100],\n",
    "    'criterion': [\"gini\", \"entropy\"]\n",
    "}\n",
    "# Instantiate the grid search model\n",
    "grid_search = GridSearchCV(estimator=clf, \n",
    "                           param_grid=params, \n",
    "                           cv=4, n_jobs=-1, verbose=1, scoring = \"accuracy\")\n"
   ]
  },
  {
   "cell_type": "code",
   "execution_count": null,
   "id": "d18faae5-f811-4493-a46f-e21f364f775e",
   "metadata": {
    "tags": []
   },
   "outputs": [],
   "source": [
    "%%time\n",
    "grid_search.fit(X_train, y_train)"
   ]
  },
  {
   "cell_type": "code",
   "execution_count": null,
   "id": "9cb7e8a2-f325-440c-8973-9601ceedc461",
   "metadata": {
    "tags": []
   },
   "outputs": [],
   "source": [
    "score_df = pd.DataFrame(grid_search.cv_results_)\n",
    "score_df.head()"
   ]
  },
  {
   "cell_type": "code",
   "execution_count": null,
   "id": "41ea9a56-c3f1-4821-b4b6-65779d7ef4c2",
   "metadata": {
    "tags": []
   },
   "outputs": [],
   "source": [
    "score_df.nlargest(5,\"mean_test_score\")"
   ]
  },
  {
   "cell_type": "code",
   "execution_count": null,
   "id": "571aa068-49b2-4c3a-a39c-402214eb9ecc",
   "metadata": {
    "tags": []
   },
   "outputs": [],
   "source": [
    "grid_search.best_estimator_"
   ]
  },
  {
   "cell_type": "code",
   "execution_count": null,
   "id": "ce908396-6f7a-49fd-b004-38a22da86271",
   "metadata": {
    "tags": []
   },
   "outputs": [],
   "source": [
    "dt_best = grid_search.best_estimator_"
   ]
  },
  {
   "cell_type": "code",
   "execution_count": null,
   "id": "cfda2f45-0b7d-47a7-8055-ab851357766d",
   "metadata": {
    "tags": []
   },
   "outputs": [],
   "source": [
    "# evaluate_model(dt_best)"
   ]
  },
  {
   "cell_type": "code",
   "execution_count": null,
   "id": "4b4c147e-2408-404c-b89f-962485d0c567",
   "metadata": {
    "tags": []
   },
   "outputs": [],
   "source": [
    "print(classification_report(y_test, dt_best.predict(X_test)))"
   ]
  },
  {
   "cell_type": "code",
   "execution_count": null,
   "id": "cc12e9dd-c004-48a5-afec-7ec08114d088",
   "metadata": {
    "tags": []
   },
   "outputs": [],
   "source": [
    "import numpy as np \n",
    "from sklearn.decomposition import PCA  \n",
    "import matplotlib.pyplot as plt\n",
    "\n",
    "pca = PCA()\n",
    "pca.fit(X)\n",
    "\n",
    "# Plot scree plot\n",
    "plt.figure(figsize=(8, 6))\n",
    "plt.plot(np.arange(1, pca.n_components_ + 1), pca.explained_variance_ratio_, marker='o', linestyle='-')\n",
    "plt.title('Scree Plot')\n",
    "plt.xlabel('Number of Components')\n",
    "plt.ylabel('Explained Variance Ratio')\n",
    "plt.xticks(np.arange(1, pca.n_components_ + 1))\n",
    "plt.grid(True)\n",
    "plt.show()"
   ]
  },
  {
   "cell_type": "code",
   "execution_count": null,
   "id": "b5533f9a-aeca-4b4a-91b4-7e02d7b59d44",
   "metadata": {
    "tags": []
   },
   "outputs": [],
   "source": [
    "pca = PCA(n_components = 0.95)\n",
    "X_pca = pca.fit_transform(X)\n",
    "X_pca.shape\t\t #size of the projected dataset"
   ]
  },
  {
   "cell_type": "code",
   "execution_count": null,
   "id": "7b6023d9-038d-49c5-89dd-faf92d9d2229",
   "metadata": {
    "tags": []
   },
   "outputs": [],
   "source": [
    "X_train, X_test, y_train, y_test = train_test_split(X_pca,y, test_size=0.2, random_state = 42)"
   ]
  },
  {
   "cell_type": "code",
   "execution_count": null,
   "id": "96e5ee30-9c3a-4b05-a39b-2c1c826957f2",
   "metadata": {
    "tags": []
   },
   "outputs": [],
   "source": [
    "clf = DecisionTreeClassifier(max_depth = 4)\n",
    "clf.fit(X_train,y_train)\n",
    "y_predict = clf.predict(X_test)"
   ]
  },
  {
   "cell_type": "code",
   "execution_count": null,
   "id": "bf9b1f8e-64d6-4972-894c-2c6e205423b8",
   "metadata": {
    "tags": []
   },
   "outputs": [],
   "source": [
    "clf.score(X_test, y_test) #testing accuracy"
   ]
  },
  {
   "cell_type": "code",
   "execution_count": null,
   "id": "8d1a0128-7928-4851-89cc-7391654e581a",
   "metadata": {
    "tags": []
   },
   "outputs": [],
   "source": [
    "clf.score(X_train, y_train)"
   ]
  },
  {
   "cell_type": "code",
   "execution_count": null,
   "id": "0ba63d65-605b-4b04-9cc7-d858772d9b83",
   "metadata": {
    "scrolled": true,
    "tags": []
   },
   "outputs": [],
   "source": []
  }
 ],
 "metadata": {
  "kernelspec": {
   "display_name": "Python 3 (ipykernel)",
   "language": "python",
   "name": "python3"
  },
  "language_info": {
   "codemirror_mode": {
    "name": "ipython",
    "version": 3
   },
   "file_extension": ".py",
   "mimetype": "text/x-python",
   "name": "python",
   "nbconvert_exporter": "python",
   "pygments_lexer": "ipython3",
   "version": "3.10.13"
  }
 },
 "nbformat": 4,
 "nbformat_minor": 5
}
